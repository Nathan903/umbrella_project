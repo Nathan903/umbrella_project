{
 "cells": [
  {
   "cell_type": "code",
   "execution_count": null,
   "metadata": {},
   "outputs": [],
   "source": [
    "import socket"
   ]
  },
  {
   "cell_type": "code",
   "execution_count": null,
   "metadata": {},
   "outputs": [],
   "source": [
    "import socket\n",
    "s = socket.socket()\n",
    "s.bind(('0.0.0.0', 8090))\n",
    "s.listen(0)\n",
    "print(\"program starts\")\n",
    "while True:\n",
    "    client, addr = s.accept()\n",
    "    while True:\n",
    "        content = client.recv(32)\n",
    "        if len(content) ==0:\n",
    "           break\n",
    "        else:\n",
    "            print(content)\n",
    "    print(\"Closing connection\")\n",
    "    client.close()"
   ]
  },
  {
   "cell_type": "code",
   "execution_count": null,
   "metadata": {},
   "outputs": [],
   "source": []
  }
 ],
 "metadata": {
  "kernelspec": {
   "display_name": "Python 3",
   "language": "python",
   "name": "python3"
  }
 },
 "nbformat": 4,
 "nbformat_minor": 2
}
